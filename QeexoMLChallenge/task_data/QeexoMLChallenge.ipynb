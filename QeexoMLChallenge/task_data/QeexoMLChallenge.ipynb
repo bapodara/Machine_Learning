{
 "cells": [
  {
   "cell_type": "code",
   "execution_count": 17,
   "metadata": {
    "collapsed": false
   },
   "outputs": [
    {
     "name": "stdout",
     "output_type": "stream",
     "text": [
      "generated:/Users/sbapodara/Desktop/QeexoMLChallenge/task_data/train.csv\n",
      "generated:/Users/sbapodara/Desktop/QeexoMLChallenge/task_data/test.csv\n"
     ]
    }
   ],
   "source": [
    "import os  \n",
    "def generateCSV(target, directory):\n",
    "    header = 'x,y,major,minor,pressure,orientation,instance,instance, user'+ '\\n'\n",
    "    targetfile = open(target, 'w')\n",
    "    targetfile.write(header)\n",
    "    for user in os.listdir(directory):\n",
    "        \n",
    "        if user != '.DS_Store':\n",
    "            for instance in os.listdir(directory+'/'+user):\n",
    "                if instance != '.DS_Store':\n",
    "                    f = open(directory+'/'+user+'/'+instance+'/touch.csv', \"r\")\n",
    "                    lines = f.readlines()\n",
    "                    targetfile.write(lines[1].strip().replace('\\n', '')+',' +instance+','+user + '\\n')\n",
    "                    f.close()\n",
    "    targetfile.close()\n",
    "    print('generated:'+target)\n",
    "\n",
    "#generate traindata csv\n",
    "generateCSV('/Users/sbapodara/Desktop/QeexoMLChallenge/task_data/train.csv','/Users/sbapodara/Desktop/QeexoMLChallenge/task_data/train' )               \n",
    "\n",
    "#generate test data csv\n",
    "generateCSV('/Users/sbapodara/Desktop/QeexoMLChallenge/task_data/test.csv','/Users/sbapodara/Desktop/QeexoMLChallenge/task_data/test' )               \n"
   ]
  },
  {
   "cell_type": "code",
   "execution_count": null,
   "metadata": {
    "collapsed": true
   },
   "outputs": [],
   "source": []
  }
 ],
 "metadata": {
  "kernelspec": {
   "display_name": "Python 2",
   "language": "python",
   "name": "python2"
  },
  "language_info": {
   "codemirror_mode": {
    "name": "ipython",
    "version": 2
   },
   "file_extension": ".py",
   "mimetype": "text/x-python",
   "name": "python",
   "nbconvert_exporter": "python",
   "pygments_lexer": "ipython2",
   "version": "2.7.10"
  }
 },
 "nbformat": 4,
 "nbformat_minor": 0
}
